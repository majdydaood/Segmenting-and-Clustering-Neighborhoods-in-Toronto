{
    "cells": [
        {
            "metadata": {
                "collapsed": true
            },
            "cell_type": "markdown",
            "source": "# Capstone Project \u2014 The Battle of Neighbourhoods"
        },
        {
            "metadata": {},
            "cell_type": "markdown",
            "source": "## 1. Introduction\nLyon is the third-largest city and second-largest urban area of France. It is located at the confluence of the rivers Rh\u00f4ne and Sa\u00f4ne, about 470 km south-east of Paris.\n\nThe city of Lyon proper had a population of 516,092 in 2017.\n\nLyon is the capital of the region of Auvergne-Rh\u00f4ne-Alpes as well as the seat of the Rh\u00f4ne departmental council\nLyon is divided into a 9 of municipal arrondissements, each of which is identified by a number and has its own council \n\nFormer capital of the Gauls at the time of the Roman Empire, Lyon is the seat of an archbishopric whose holder bears the title of Primate of the Gauls. Lyon became a major economic hub during the Renaissance. The city is recognized for its cuisine and gastronomy, and historical and architectural landmarks; as such, the districts of Old Lyon, the Fourvi\u00e8re hill, the Presqu'\u00eele and the slopes of the Croix-Rousse are inscribed on the UNESCO world heritage list. Lyon was historically an important area for the production and weaving of silk. Lyon played a significant role in the history of cinema: it is where Auguste and Louis Lumi\u00e8re invented the cinematograph. It is also known for its light festival, the F\u00eate des Lumi\u00e8res, which begins every 8 December and lasts for four days, earning Lyon the title of Capital of Lights.\n\n\n## 2. Business problem\nEconomically, Lyon is a major centre for banking, as well as for the chemical, pharmaceutical, and biotech industries. The city contains a significant software industry with a particular focus on video games, and in recent years has fostered a growing local start-up sector. Lyon hosts the international headquarters of Interpol, the International Agency for Research on Cancer and Euronews. According to the Globalization and World Rankings Research Institute, Lyon is considered a Beta city, as of 2018. It ranked second in France and 40th globally in Mercer's 2019 liveability rankings. so to help the stockholders when they want to run their own business in Lyon, we will search for the best place to open it such as a restaurant or a bakery."
        },
        {
            "metadata": {},
            "cell_type": "markdown",
            "source": "## 3. Data source\n\nThis dataset comes from a certified public service\n\n\nhttps://www.data.gouv.fr/fr/datasets/points-de-distribution-du-magazine-de-la-metropole-de-lyon/#_"
        },
        {
            "metadata": {},
            "cell_type": "markdown",
            "source": "## 4. Data Exploration"
        },
        {
            "metadata": {},
            "cell_type": "code",
            "source": "import numpy as np\nimport pandas as pd\n\npd.set_option('display.max_columns', None)\npd.set_option('display.max_rows', None)\n\nimport requests\nfrom bs4 import BeautifulSoup\nfrom sklearn.cluster import KMeans\nimport matplotlib.cm as cm\nimport matplotlib.colors as colors",
            "execution_count": 3,
            "outputs": []
        },
        {
            "metadata": {},
            "cell_type": "code",
            "source": "\nimport types\nimport pandas as pd\nfrom botocore.client import Config\nimport ibm_boto3\n\ndef __iter__(self): return 0\n\n# @hidden_cell\n\n\ndf_data_1 = pd.read_csv(body,\";\")\n#filtered_df = df_data_1[df_data_1['code_postal'].isnull()]\ndf_data_1.loc[(df_data_1['nom'] == 'Biblioth\u00e8que Lyon Sud'),'code_postal']= 69310\n#filtered_df\ndf_data_1[\"code_postal\"] =df_data_1[\"code_postal\"].astype(int)\ndf_data_1[\"code_postal\"] =df_data_1[\"code_postal\"].astype(str)\ndf_data_1.head()",
            "execution_count": 4,
            "outputs": [
                {
                    "output_type": "execute_result",
                    "execution_count": 4,
                    "data": {
                        "text/plain": "                                           nom                  adresse  \\\n0                      Biblioth\u00e8que municipale   57 avenue Gabriel P\u00e9ri   \n1                             Les petits fut\u00e9s   57 avenue Gabriel P\u00e9ri   \n2                            La Pani\u00e8re \u00c0 Pain          place de Verdun   \n3  Centre hospitalier g\u00e9riatrique du Mont d'Or        6 rue Notre Dame    \n4                  Mairie d'Albigny-sur-Sa\u00f4ne   25 avenue Gabriel P\u00e9ri    \n\n  adresse_complement code_postal              ville       type  \\\n0                NaN       69250  Albigny-sur-Sa\u00f4ne    Culture   \n1                NaN       69250  Albigny-sur-Sa\u00f4ne     Social   \n2                NaN       69250  Albigny-sur-Sa\u00f4ne  Commerces   \n3                NaN       69250  Albigny-sur-Sa\u00f4ne     Social   \n4                NaN       69250  Albigny-sur-Sa\u00f4ne     Public   \n\n                          sous_type  accessibilite  commentaire  code_insee  \\\n0                      Biblioth\u00e8que            NaN          NaN       69003   \n1                            Cr\u00e8che            NaN          NaN       69003   \n2                       Boulangerie            NaN          NaN       69003   \n3  Etablissement de personnes \u00e2g\u00e9es            NaN          NaN       69003   \n4                            Mairie            NaN          NaN       69003   \n\n    x_wgs84    y_wgs84  \n0  4.832266  45.866490  \n1  4.832266  45.866490  \n2  4.831218  45.865506  \n3  4.834117  45.859135  \n4  4.832244  45.870626  ",
                        "text/html": "<div>\n<style scoped>\n    .dataframe tbody tr th:only-of-type {\n        vertical-align: middle;\n    }\n\n    .dataframe tbody tr th {\n        vertical-align: top;\n    }\n\n    .dataframe thead th {\n        text-align: right;\n    }\n</style>\n<table border=\"1\" class=\"dataframe\">\n  <thead>\n    <tr style=\"text-align: right;\">\n      <th></th>\n      <th>nom</th>\n      <th>adresse</th>\n      <th>adresse_complement</th>\n      <th>code_postal</th>\n      <th>ville</th>\n      <th>type</th>\n      <th>sous_type</th>\n      <th>accessibilite</th>\n      <th>commentaire</th>\n      <th>code_insee</th>\n      <th>x_wgs84</th>\n      <th>y_wgs84</th>\n    </tr>\n  </thead>\n  <tbody>\n    <tr>\n      <th>0</th>\n      <td>Biblioth\u00e8que municipale</td>\n      <td>57 avenue Gabriel P\u00e9ri</td>\n      <td>NaN</td>\n      <td>69250</td>\n      <td>Albigny-sur-Sa\u00f4ne</td>\n      <td>Culture</td>\n      <td>Biblioth\u00e8que</td>\n      <td>NaN</td>\n      <td>NaN</td>\n      <td>69003</td>\n      <td>4.832266</td>\n      <td>45.866490</td>\n    </tr>\n    <tr>\n      <th>1</th>\n      <td>Les petits fut\u00e9s</td>\n      <td>57 avenue Gabriel P\u00e9ri</td>\n      <td>NaN</td>\n      <td>69250</td>\n      <td>Albigny-sur-Sa\u00f4ne</td>\n      <td>Social</td>\n      <td>Cr\u00e8che</td>\n      <td>NaN</td>\n      <td>NaN</td>\n      <td>69003</td>\n      <td>4.832266</td>\n      <td>45.866490</td>\n    </tr>\n    <tr>\n      <th>2</th>\n      <td>La Pani\u00e8re \u00c0 Pain</td>\n      <td>place de Verdun</td>\n      <td>NaN</td>\n      <td>69250</td>\n      <td>Albigny-sur-Sa\u00f4ne</td>\n      <td>Commerces</td>\n      <td>Boulangerie</td>\n      <td>NaN</td>\n      <td>NaN</td>\n      <td>69003</td>\n      <td>4.831218</td>\n      <td>45.865506</td>\n    </tr>\n    <tr>\n      <th>3</th>\n      <td>Centre hospitalier g\u00e9riatrique du Mont d'Or</td>\n      <td>6 rue Notre Dame</td>\n      <td>NaN</td>\n      <td>69250</td>\n      <td>Albigny-sur-Sa\u00f4ne</td>\n      <td>Social</td>\n      <td>Etablissement de personnes \u00e2g\u00e9es</td>\n      <td>NaN</td>\n      <td>NaN</td>\n      <td>69003</td>\n      <td>4.834117</td>\n      <td>45.859135</td>\n    </tr>\n    <tr>\n      <th>4</th>\n      <td>Mairie d'Albigny-sur-Sa\u00f4ne</td>\n      <td>25 avenue Gabriel P\u00e9ri</td>\n      <td>NaN</td>\n      <td>69250</td>\n      <td>Albigny-sur-Sa\u00f4ne</td>\n      <td>Public</td>\n      <td>Mairie</td>\n      <td>NaN</td>\n      <td>NaN</td>\n      <td>69003</td>\n      <td>4.832244</td>\n      <td>45.870626</td>\n    </tr>\n  </tbody>\n</table>\n</div>"
                    },
                    "metadata": {}
                }
            ]
        },
        {
            "metadata": {},
            "cell_type": "code",
            "source": "df_data_1.shape",
            "execution_count": 5,
            "outputs": [
                {
                    "output_type": "execute_result",
                    "execution_count": 5,
                    "data": {
                        "text/plain": "(1365, 12)"
                    },
                    "metadata": {}
                }
            ]
        },
        {
            "metadata": {},
            "cell_type": "code",
            "source": "",
            "execution_count": null,
            "outputs": []
        },
        {
            "metadata": {},
            "cell_type": "code",
            "source": "lyon_data = df_data_1[df_data_1[\"code_postal\"].str.contains(\"6900\")]\nlyon_data.head()",
            "execution_count": 6,
            "outputs": [
                {
                    "output_type": "execute_result",
                    "execution_count": 6,
                    "data": {
                        "text/plain": "                                   nom                adresse  \\\n258  Biblioth\u00e8que du 1e arrondissement  7 rue Saint-Polycarpe   \n259     Les Gourmandises du Clos Jouve       1 rue Carquillat   \n260             Boulangerie Stainmesse   49 rue des Chartreux   \n261        Snac Boulangerie P\u00e2tisserie       4 place Sathonay   \n262           Sur le bout de la langue       3 place Sathonay   \n\n    adresse_complement code_postal     ville       type     sous_type  \\\n258                NaN       69001  Lyon 1er    Culture  Biblioth\u00e8que   \n259                NaN       69001  Lyon 1er  Commerces   Boulangerie   \n260                NaN       69001  Lyon 1er  Commerces   Boulangerie   \n261                NaN       69001  Lyon 1er  Commerces   Boulangerie   \n262                NaN       69001  Lyon 1er  Commerces   Boulangerie   \n\n     accessibilite  commentaire  code_insee   x_wgs84    y_wgs84  \n258            NaN          NaN       69381  4.834602  45.768927  \n259            NaN          NaN       69381  4.821082  45.772353  \n260            NaN          NaN       69381  4.826138  45.771924  \n261            NaN          NaN       69381  4.829836  45.769253  \n262            NaN          NaN       69381  4.830743  45.769261  ",
                        "text/html": "<div>\n<style scoped>\n    .dataframe tbody tr th:only-of-type {\n        vertical-align: middle;\n    }\n\n    .dataframe tbody tr th {\n        vertical-align: top;\n    }\n\n    .dataframe thead th {\n        text-align: right;\n    }\n</style>\n<table border=\"1\" class=\"dataframe\">\n  <thead>\n    <tr style=\"text-align: right;\">\n      <th></th>\n      <th>nom</th>\n      <th>adresse</th>\n      <th>adresse_complement</th>\n      <th>code_postal</th>\n      <th>ville</th>\n      <th>type</th>\n      <th>sous_type</th>\n      <th>accessibilite</th>\n      <th>commentaire</th>\n      <th>code_insee</th>\n      <th>x_wgs84</th>\n      <th>y_wgs84</th>\n    </tr>\n  </thead>\n  <tbody>\n    <tr>\n      <th>258</th>\n      <td>Biblioth\u00e8que du 1e arrondissement</td>\n      <td>7 rue Saint-Polycarpe</td>\n      <td>NaN</td>\n      <td>69001</td>\n      <td>Lyon 1er</td>\n      <td>Culture</td>\n      <td>Biblioth\u00e8que</td>\n      <td>NaN</td>\n      <td>NaN</td>\n      <td>69381</td>\n      <td>4.834602</td>\n      <td>45.768927</td>\n    </tr>\n    <tr>\n      <th>259</th>\n      <td>Les Gourmandises du Clos Jouve</td>\n      <td>1 rue Carquillat</td>\n      <td>NaN</td>\n      <td>69001</td>\n      <td>Lyon 1er</td>\n      <td>Commerces</td>\n      <td>Boulangerie</td>\n      <td>NaN</td>\n      <td>NaN</td>\n      <td>69381</td>\n      <td>4.821082</td>\n      <td>45.772353</td>\n    </tr>\n    <tr>\n      <th>260</th>\n      <td>Boulangerie Stainmesse</td>\n      <td>49 rue des Chartreux</td>\n      <td>NaN</td>\n      <td>69001</td>\n      <td>Lyon 1er</td>\n      <td>Commerces</td>\n      <td>Boulangerie</td>\n      <td>NaN</td>\n      <td>NaN</td>\n      <td>69381</td>\n      <td>4.826138</td>\n      <td>45.771924</td>\n    </tr>\n    <tr>\n      <th>261</th>\n      <td>Snac Boulangerie P\u00e2tisserie</td>\n      <td>4 place Sathonay</td>\n      <td>NaN</td>\n      <td>69001</td>\n      <td>Lyon 1er</td>\n      <td>Commerces</td>\n      <td>Boulangerie</td>\n      <td>NaN</td>\n      <td>NaN</td>\n      <td>69381</td>\n      <td>4.829836</td>\n      <td>45.769253</td>\n    </tr>\n    <tr>\n      <th>262</th>\n      <td>Sur le bout de la langue</td>\n      <td>3 place Sathonay</td>\n      <td>NaN</td>\n      <td>69001</td>\n      <td>Lyon 1er</td>\n      <td>Commerces</td>\n      <td>Boulangerie</td>\n      <td>NaN</td>\n      <td>NaN</td>\n      <td>69381</td>\n      <td>4.830743</td>\n      <td>45.769261</td>\n    </tr>\n  </tbody>\n</table>\n</div>"
                    },
                    "metadata": {}
                }
            ]
        },
        {
            "metadata": {},
            "cell_type": "code",
            "source": "lyon_data.shape",
            "execution_count": 66,
            "outputs": [
                {
                    "output_type": "execute_result",
                    "execution_count": 66,
                    "data": {
                        "text/plain": "(592, 12)"
                    },
                    "metadata": {}
                }
            ]
        },
        {
            "metadata": {},
            "cell_type": "code",
            "source": "",
            "execution_count": null,
            "outputs": []
        }
    ],
    "metadata": {
        "kernelspec": {
            "name": "python3",
            "display_name": "Python 3.7",
            "language": "python"
        },
        "language_info": {
            "name": "python",
            "version": "3.7.10",
            "mimetype": "text/x-python",
            "codemirror_mode": {
                "name": "ipython",
                "version": 3
            },
            "pygments_lexer": "ipython3",
            "nbconvert_exporter": "python",
            "file_extension": ".py"
        }
    },
    "nbformat": 4,
    "nbformat_minor": 1
}